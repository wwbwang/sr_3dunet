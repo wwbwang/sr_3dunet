{
 "cells": [
  {
   "cell_type": "code",
   "execution_count": 1,
   "metadata": {},
   "outputs": [],
   "source": [
    "\n",
    "import tifffile\n",
    "import numpy as np\n",
    "import torch\n",
    "import os\n",
    "import random\n",
    "import h5py\n",
    "from tqdm import tqdm\n",
    "import matplotlib.pyplot as plt\n",
    "\n",
    "from sr_3dunet.utils.data_utils import random_crop_3d, random_crop_2d, augment_3d, augment_2d, preprocess, get_projection, get_rotated_img, crop_block"
   ]
  },
  {
   "cell_type": "code",
   "execution_count": 2,
   "metadata": {},
   "outputs": [],
   "source": [
    "ims_path = '/share/home/wangwb/workspace/sr_3dunet/datasets/CJ4ROI1.ims'\n",
    "\n",
    "h5 = h5py.File(ims_path, 'r')"
   ]
  },
  {
   "cell_type": "code",
   "execution_count": 4,
   "metadata": {},
   "outputs": [
    {
     "data": {
      "text/plain": [
       "(64, 640, 640)"
      ]
     },
     "execution_count": 4,
     "metadata": {},
     "output_type": "execute_result"
    }
   ],
   "source": [
    "img_total = h5['DataSet']['ResolutionLevel 4']['TimePoint 0']['Channel 0']['Data']\n",
    "\n",
    "img_total.shape"
   ]
  },
  {
   "cell_type": "code",
   "execution_count": 11,
   "metadata": {},
   "outputs": [
    {
     "ename": "KeyboardInterrupt",
     "evalue": "",
     "output_type": "error",
     "traceback": [
      "\u001b[0;31m---------------------------------------------------------------------------\u001b[0m",
      "\u001b[0;31mKeyboardInterrupt\u001b[0m                         Traceback (most recent call last)",
      "\u001b[1;32m/share/home/wangwb/workspace/sr_3dunet/scripts/showimg.ipynb Cell 4\u001b[0m line \u001b[0;36m1\n\u001b[0;32m----> <a href='vscode-notebook-cell://ssh-remote%2Bmn02/share/home/wangwb/workspace/sr_3dunet/scripts/showimg.ipynb#X11sdnNjb2RlLXJlbW90ZQ%3D%3D?line=0'>1</a>\u001b[0m plt\u001b[39m.\u001b[39mimshow(img_total[\u001b[39m0\u001b[39;49m])\n",
      "File \u001b[0;32mh5py/_objects.pyx:54\u001b[0m, in \u001b[0;36mh5py._objects.with_phil.wrapper\u001b[0;34m()\u001b[0m\n",
      "File \u001b[0;32mh5py/_objects.pyx:55\u001b[0m, in \u001b[0;36mh5py._objects.with_phil.wrapper\u001b[0;34m()\u001b[0m\n",
      "File \u001b[0;32m~/anaconda3/envs/MPCN/lib/python3.9/site-packages/h5py/_hl/dataset.py:758\u001b[0m, in \u001b[0;36mDataset.__getitem__\u001b[0;34m(self, args, new_dtype)\u001b[0m\n\u001b[1;32m    756\u001b[0m \u001b[39mif\u001b[39;00m \u001b[39mself\u001b[39m\u001b[39m.\u001b[39m_fast_read_ok \u001b[39mand\u001b[39;00m (new_dtype \u001b[39mis\u001b[39;00m \u001b[39mNone\u001b[39;00m):\n\u001b[1;32m    757\u001b[0m     \u001b[39mtry\u001b[39;00m:\n\u001b[0;32m--> 758\u001b[0m         \u001b[39mreturn\u001b[39;00m \u001b[39mself\u001b[39;49m\u001b[39m.\u001b[39;49m_fast_reader\u001b[39m.\u001b[39;49mread(args)\n\u001b[1;32m    759\u001b[0m     \u001b[39mexcept\u001b[39;00m \u001b[39mTypeError\u001b[39;00m:\n\u001b[1;32m    760\u001b[0m         \u001b[39mpass\u001b[39;00m  \u001b[39m# Fall back to Python read pathway below\u001b[39;00m\n",
      "\u001b[0;31mKeyboardInterrupt\u001b[0m: "
     ]
    }
   ],
   "source": [
    "plt.imshow(img_total[0])"
   ]
  },
  {
   "cell_type": "markdown",
   "metadata": {},
   "source": [
    "打印目录"
   ]
  },
  {
   "cell_type": "code",
   "execution_count": 6,
   "metadata": {},
   "outputs": [
    {
     "name": "stdout",
     "output_type": "stream",
     "text": [
      "HDF5 file structure:\n",
      "- DataSet\n",
      "  - ResolutionLevel 0\n",
      "    - TimePoint 0\n",
      "      - Channel 0\n",
      "        - Data\n",
      "        - Histogram\n",
      "        - Histogram1024\n",
      "      - Channel 1\n",
      "        - Data\n",
      "        - Histogram\n",
      "        - Histogram1024\n",
      "  - ResolutionLevel 1\n",
      "    - TimePoint 0\n",
      "      - Channel 0\n",
      "        - Data\n",
      "        - Histogram\n",
      "        - Histogram1024\n",
      "      - Channel 1\n",
      "        - Data\n",
      "        - Histogram\n",
      "        - Histogram1024\n",
      "  - ResolutionLevel 2\n",
      "    - TimePoint 0\n",
      "      - Channel 0\n",
      "        - Data\n",
      "        - Histogram\n",
      "        - Histogram1024\n",
      "      - Channel 1\n",
      "        - Data\n",
      "        - Histogram\n",
      "        - Histogram1024\n",
      "  - ResolutionLevel 3\n",
      "    - TimePoint 0\n",
      "      - Channel 0\n",
      "        - Data\n",
      "        - Histogram\n",
      "        - Histogram1024\n",
      "      - Channel 1\n",
      "        - Data\n",
      "        - Histogram\n",
      "        - Histogram1024\n",
      "  - ResolutionLevel 4\n",
      "    - TimePoint 0\n",
      "      - Channel 0\n",
      "        - Data\n",
      "        - Histogram\n",
      "        - Histogram1024\n",
      "      - Channel 1\n",
      "        - Data\n",
      "        - Histogram\n",
      "        - Histogram1024\n",
      "  - ResolutionLevel 5\n",
      "    - TimePoint 0\n",
      "      - Channel 0\n",
      "        - Data\n",
      "        - Histogram\n",
      "        - Histogram1024\n",
      "      - Channel 1\n",
      "        - Data\n",
      "        - Histogram\n",
      "        - Histogram1024\n",
      "  - ResolutionLevel 6\n",
      "    - TimePoint 0\n",
      "      - Channel 0\n",
      "        - Data\n",
      "        - Histogram\n",
      "        - Histogram1024\n",
      "      - Channel 1\n",
      "        - Data\n",
      "        - Histogram\n",
      "        - Histogram1024\n",
      "- DataSetInfo\n",
      "  - Channel 0\n",
      "  - Channel 1\n",
      "  - Image\n",
      "  - ImarisDataSet\n",
      "  - Log\n",
      "  - TimeInfo\n",
      "- Thumbnail\n",
      "  - Data\n"
     ]
    }
   ],
   "source": [
    "import h5py\n",
    "\n",
    "def print_h5_structure(h5_obj, level=0):\n",
    "    for key in h5_obj.keys():\n",
    "        print(\"  \" * level + f\"- {key}\")\n",
    "        if isinstance(h5_obj[key], h5py.Group):\n",
    "            print_h5_structure(h5_obj[key], level + 1)\n",
    "\n",
    "# 打开 h5 文件\n",
    "h5_file = h5py.File('/share/home/wangwb/workspace/sr_3dunet/datasets/CJ4ROI1.ims', 'r')\n",
    "\n",
    "# 打印 h5 文件的目录结构\n",
    "print(\"HDF5 file structure:\")\n",
    "print_h5_structure(h5_file)\n",
    "\n",
    "# 关闭 h5 文件\n",
    "h5_file.close()"
   ]
  },
  {
   "cell_type": "markdown",
   "metadata": {},
   "source": [
    "阈值设置为1000？"
   ]
  },
  {
   "cell_type": "code",
   "execution_count": 6,
   "metadata": {},
   "outputs": [
    {
     "name": "stderr",
     "output_type": "stream",
     "text": [
      "/tmp/ipykernel_1121403/936476501.py:3: DeprecationWarning: <tifffile.imsave> is deprecated. Use tifffile.imwrite\n",
      "  tifffile.imsave('total.tif', img_total[200:200+len, 3000:3000+len, 3000:3000+len])\n"
     ]
    }
   ],
   "source": [
    "len = 128\n",
    "\n",
    "tifffile.imsave('total.tif', img_total[200:200+len, 3000:3000+len, 3000:3000+len])"
   ]
  },
  {
   "cell_type": "code",
   "execution_count": null,
   "metadata": {},
   "outputs": [],
   "source": []
  }
 ],
 "metadata": {
  "kernelspec": {
   "display_name": "MPCN",
   "language": "python",
   "name": "python3"
  },
  "language_info": {
   "codemirror_mode": {
    "name": "ipython",
    "version": 3
   },
   "file_extension": ".py",
   "mimetype": "text/x-python",
   "name": "python",
   "nbconvert_exporter": "python",
   "pygments_lexer": "ipython3",
   "version": "3.9.0"
  }
 },
 "nbformat": 4,
 "nbformat_minor": 2
}
