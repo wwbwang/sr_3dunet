{
 "cells": [
  {
   "cell_type": "code",
   "execution_count": 1,
   "metadata": {},
   "outputs": [],
   "source": [
    "import tifffile\n",
    "import numpy as np\n",
    "import matplotlib.pyplot as plt"
   ]
  },
  {
   "cell_type": "code",
   "execution_count": 11,
   "metadata": {},
   "outputs": [],
   "source": [
    "from sr_3dunet.utils.data_utils import get_rotated_img, get_projection"
   ]
  },
  {
   "cell_type": "code",
   "execution_count": null,
   "metadata": {},
   "outputs": [],
   "source": [
    "img_input_path = '/share/home/wangwb/workspace/RESIN_datasets/neuron/val_datasets/little_dirty.tif'\n",
    "img_output_path = '/share/home/wangwb/workspace/RESIN_datasets/neuron/RESIN_results/outputlittle_dirty.tif'\n",
    "\n",
    "img_input = tifffile.imread(img_input_path)[2:-2, 2:-2, 2:-2]\n",
    "img_output = tifffile.imread(img_output_path)"
   ]
  },
  {
   "cell_type": "code",
   "execution_count": null,
   "metadata": {},
   "outputs": [],
   "source": [
    "img_input_cube = get_rotated_img(img_input, None)\n",
    "img_output_cube = get_rotated_img(img_output, None)\n",
    "\n",
    "axes = (0, 1)\n",
    "img_input_flipcube = np.rot90(np.rot90(img_input_cube, axes=axes), axes=axes)\n",
    "img_output_flipcube = np.rot90(np.rot90(img_output_cube, axes=axes), axes=axes)\n",
    "\n",
    "tifffile.imwrite('img_input_cube.tif',  img_input_cube)\n",
    "tifffile.imwrite('img_output_cube.tif', img_output_cube)\n",
    "tifffile.imwrite('img_input_flipcube.tif',  img_input_flipcube)\n",
    "tifffile.imwrite('img_output_flipcube.tif', img_output_flipcube)"
   ]
  },
  {
   "cell_type": "code",
   "execution_count": null,
   "metadata": {},
   "outputs": [],
   "source": [
    "img_output_MIP, _, _ = get_projection(get_rotated_img(img_output.transpose(1,0,2), None), -3)\n",
    "tifffile.imwrite('img_output_MIP.tif', np.flipud(img_output_MIP))\n",
    "\n",
    "img_input_MIP, _, _ = get_projection(get_rotated_img(img_input.transpose(1,0,2), None), -3)\n",
    "tifffile.imwrite('img_input_MIP.tif',  np.flipud(img_input_MIP))"
   ]
  },
  {
   "cell_type": "markdown",
   "metadata": {},
   "source": [
    "contrast"
   ]
  },
  {
   "cell_type": "code",
   "execution_count": 10,
   "metadata": {},
   "outputs": [],
   "source": [
    "from PIL import Image, ImageDraw\n",
    "\n",
    "# crop((0, 400, 1706, 2107))\n",
    "image1 = Image.open(\"output.png\").crop((500, 0, 2207, 1706)) # Image.open(\"output.png\")\n",
    "image2 = Image.open(\"input.png\").crop((500, 0, 2207, 1706))\n",
    "\n",
    "result = Image.new(\"RGB\", image1.size)\n",
    "draw = ImageDraw.Draw(result)\n",
    "\n",
    "diff = image1.width-image1.height\n",
    "for x in range(0, image1.width):\n",
    "    for y in range(0, image1.height):\n",
    "        if x-diff < y:\n",
    "            result.putpixel((x, y), image1.getpixel((x, y)))\n",
    "        else:\n",
    "            result.putpixel((x, y), image2.getpixel((x, y)))\n",
    "\n",
    "# point1 = (0, 50)\n",
    "# point2 = (350, 350)\n",
    "\n",
    "# point1 = (diff, 0)\n",
    "# point2 = (image1.width-1, image1.height-1)\n",
    "\n",
    "point1 = (0, 0)\n",
    "point2 = (image1.width-1, image1.height-1)\n",
    "draw.line([point1, point2], fill='white', width=2, joint='curve')\n",
    "\n",
    "result.save(\"result.png\")"
   ]
  },
  {
   "cell_type": "code",
   "execution_count": 4,
   "metadata": {},
   "outputs": [
    {
     "data": {
      "text/plain": [
       "(2407, 1706)"
      ]
     },
     "execution_count": 4,
     "metadata": {},
     "output_type": "execute_result"
    }
   ],
   "source": [
    "image1.size"
   ]
  }
 ],
 "metadata": {
  "kernelspec": {
   "display_name": "MPCN",
   "language": "python",
   "name": "python3"
  },
  "language_info": {
   "codemirror_mode": {
    "name": "ipython",
    "version": 3
   },
   "file_extension": ".py",
   "mimetype": "text/x-python",
   "name": "python",
   "nbconvert_exporter": "python",
   "pygments_lexer": "ipython3",
   "version": "3.9.0"
  }
 },
 "nbformat": 4,
 "nbformat_minor": 2
}
