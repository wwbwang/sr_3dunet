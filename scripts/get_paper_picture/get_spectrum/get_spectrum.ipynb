{
 "cells": [
  {
   "cell_type": "code",
   "execution_count": 1,
   "metadata": {},
   "outputs": [],
   "source": [
    "import numpy as np\n",
    "import tifffile\n",
    "import matplotlib.pyplot as plt\n",
    "import h5py\n",
    "\n",
    "from sr_3dunet.utils.data_utils import get_projection, get_rotated_img, get_anti_rotated_img"
   ]
  },
  {
   "cell_type": "code",
   "execution_count": 2,
   "metadata": {},
   "outputs": [],
   "source": [
    "ims_path = '/share/home/wangwb/workspace/sr_3dunet/datasets/CJ4ROI1.ims'\n",
    "h5 = h5py.File(ims_path, 'r')\n",
    "img_total_input = h5['DataSet']['ResolutionLevel 0']['TimePoint 0']['Channel 0']['Data']\n",
    "\n",
    "ims_path = '/share/home/wangwb/workspace/sr_3dunet/datasets/cellbody/new_out_h5/output_res0.h5'\n",
    "h5 = h5py.File(ims_path, 'r')\n",
    "img_total_output = h5['DataSet']['ResolutionLevel 0']['TimePoint 0']['Channel 0']['Data']"
   ]
  },
  {
   "cell_type": "code",
   "execution_count": 3,
   "metadata": {},
   "outputs": [],
   "source": [
    "img_input = img_total_input[50:850, 4000:4850, 4000:4850]\n",
    "rotated_img_input = get_rotated_img(img_input)\n",
    "rotated_img_input = rotated_img_input[rotated_img_input.shape[0]//4:rotated_img_input.shape[0]//4*3, :, rotated_img_input.shape[2]//4:rotated_img_input.shape[2]//4*3]\n",
    "rotated_img_input = rotated_img_input.astype(np.float16)"
   ]
  },
  {
   "cell_type": "code",
   "execution_count": 4,
   "metadata": {},
   "outputs": [],
   "source": [
    "tifffile.imwrite('rotated_img_input.tif', rotated_img_input)"
   ]
  },
  {
   "cell_type": "code",
   "execution_count": 5,
   "metadata": {},
   "outputs": [],
   "source": [
    "img_output = img_total_output[50:850, 4000:4850, 4000:4850]\n",
    "rotated_img_output = get_rotated_img(img_output)\n",
    "rotated_img_output = rotated_img_output[rotated_img_output.shape[0]//4:rotated_img_output.shape[0]//4*3, :, rotated_img_output.shape[2]//4:rotated_img_output.shape[2]//4*3]\n",
    "rotated_img_output = rotated_img_output.astype(np.float16)"
   ]
  },
  {
   "cell_type": "code",
   "execution_count": 6,
   "metadata": {},
   "outputs": [],
   "source": [
    "tifffile.imwrite('rotated_img_output.tif', rotated_img_output)"
   ]
  },
  {
   "cell_type": "code",
   "execution_count": 37,
   "metadata": {},
   "outputs": [
    {
     "data": {
      "text/plain": [
       "<Figure size 720x720 with 0 Axes>"
      ]
     },
     "metadata": {},
     "output_type": "display_data"
    }
   ],
   "source": [
    "plt.figure(figsize=(10, 10))\n",
    "\n",
    "# len1 = 330\n",
    "# len2 = 215\n",
    "# starty = 200\n",
    "# startz = 410\n",
    "\n",
    "len1 = 330\n",
    "len2 = 215\n",
    "starty = 160\n",
    "startz = 335\n",
    "\n",
    "# len1 = 330\n",
    "# len2 = 215\n",
    "# starty = 160\n",
    "# startz = 160 \n",
    "\n",
    "img_cut = rotated_img_input[360: 640, :, :].transpose(0, 2, 1)[:, starty:starty+len1, startz:startz+len2]\n",
    "img_MIP, _, _ = get_projection(img_cut, -3)\n",
    "img_MIP = img_MIP.transpose(1,0)\n",
    "\n",
    "tifffile.imwrite('img_cube_input.tif', img_cut)\n",
    "# plt.imshow(img_MIP)\n",
    "# tifffile.imwrite('outputimg_3_cut.tif', img_cut)\n",
    "\n",
    "tifffile.imwrite('img_MIP_input.tif', img_MIP)"
   ]
  },
  {
   "cell_type": "code",
   "execution_count": 38,
   "metadata": {},
   "outputs": [
    {
     "data": {
      "text/plain": [
       "<Figure size 720x720 with 0 Axes>"
      ]
     },
     "metadata": {},
     "output_type": "display_data"
    }
   ],
   "source": [
    "plt.figure(figsize=(10, 10))\n",
    "\n",
    "# len1 = 330\n",
    "# len2 = 215\n",
    "# starty = 200\n",
    "# startz = 410\n",
    "\n",
    "len1 = 330\n",
    "len2 = 215\n",
    "starty = 160\n",
    "startz = 335\n",
    "\n",
    "# len1 = 330\n",
    "# len2 = 215\n",
    "# starty = 160\n",
    "# startz = 160 \n",
    "\n",
    "img_cut = rotated_img_output[360: 640, :, :].transpose(0, 2, 1)[:, starty:starty+len1, startz:startz+len2]\n",
    "img_MIP, _, _ = get_projection(img_cut, -3)\n",
    "img_MIP = img_MIP.transpose(1,0)\n",
    "\n",
    "tifffile.imwrite('img_cube_output.tif', img_cut)\n",
    "# plt.imshow(img_MIP)\n",
    "# tifffile.imwrite('outputimg_3_cut.tif', img_cut)\n",
    "\n",
    "tifffile.imwrite('img_MIP_output.tif', img_MIP)"
   ]
  },
  {
   "cell_type": "code",
   "execution_count": 24,
   "metadata": {},
   "outputs": [
    {
     "data": {
      "text/plain": [
       "345513067.0"
      ]
     },
     "execution_count": 24,
     "metadata": {},
     "output_type": "execute_result"
    }
   ],
   "source": [
    "magnitude.max()"
   ]
  }
 ],
 "metadata": {
  "kernelspec": {
   "display_name": "MPCN",
   "language": "python",
   "name": "python3"
  },
  "language_info": {
   "codemirror_mode": {
    "name": "ipython",
    "version": 3
   },
   "file_extension": ".py",
   "mimetype": "text/x-python",
   "name": "python",
   "nbconvert_exporter": "python",
   "pygments_lexer": "ipython3",
   "version": "3.9.0"
  }
 },
 "nbformat": 4,
 "nbformat_minor": 2
}
