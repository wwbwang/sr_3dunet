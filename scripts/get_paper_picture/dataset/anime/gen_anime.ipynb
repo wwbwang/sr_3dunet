{
 "cells": [
  {
   "cell_type": "code",
   "execution_count": 1,
   "metadata": {},
   "outputs": [],
   "source": [
    "import tifffile\n",
    "import skimage\n",
    "import scipy\n",
    "import napari\n",
    "\n",
    "from napari_animation import Animation\n",
    "from napari_animation.easing import Easing\n",
    "from moviepy.editor import VideoFileClip\n",
    "from PIL import Image, ImageSequence\n",
    "\n",
    "import numpy as np\n",
    "from scipy import ndimage as ndi\n",
    "from skimage import data"
   ]
  },
  {
   "cell_type": "code",
   "execution_count": 2,
   "metadata": {},
   "outputs": [],
   "source": [
    "def convert_mp4_to_gif(mp4_file, gif_file):\n",
    "    down_scale = 1\n",
    "    clip = VideoFileClip(mp4_file)\n",
    "    \n",
    "    # 计算新尺寸\n",
    "    width = clip.size[0] // down_scale\n",
    "    height = clip.size[1] // down_scale\n",
    "    \n",
    "    clip_resized = clip.resize((width, height))\n",
    "    clip_resized.write_gif(gif_file)\n",
    "    \n",
    "def get_and_save_gif(name):\n",
    "    viewer = napari.Viewer(ndisplay=3)\n",
    "    rotated_img = tifffile.imread(name+'.tif').transpose(1,2,0)\n",
    "    name = name + '_rotated'\n",
    "    tifffile.imsave(name +'.tif', rotated_img)\n",
    "    \n",
    "    viewer.open(name+'.tif')  \n",
    "    animation = Animation(viewer)\n",
    "\n",
    "    viewer.camera.zoom = 2\n",
    "    animation.capture_keyframe()\n",
    "\n",
    "    viewer.camera.angles = (0.0, 90.0, 90.0)\n",
    "    animation.capture_keyframe(steps=400)\n",
    "\n",
    "    animation.animate(name+\".mp4\", canvas_only=True, fps=60)\n",
    "\n",
    "    # 指定输入的MP4文件和输出的GIF文件名\n",
    "    mp4_file = name+\".mp4\"\n",
    "    gif_file = name+\".gif\"\n",
    "\n",
    "    convert_mp4_to_gif(mp4_file, gif_file)"
   ]
  },
  {
   "cell_type": "code",
   "execution_count": 11,
   "metadata": {},
   "outputs": [
    {
     "name": "stdout",
     "output_type": "stream",
     "text": [
      "Rendering frames...\n"
     ]
    },
    {
     "name": "stderr",
     "output_type": "stream",
     "text": [
      "  0%|          | 0/401 [00:00<?, ?it/s]IMAGEIO FFMPEG_WRITER WARNING: input image is not divisible by macro_block_size=16, resizing from (1414, 1194) to (1424, 1200) to ensure video compatibility with most codecs and players. To prevent resizing, make your input image divisible by the macro_block_size or set the macro_block_size to 1 (risking incompatibility).\n",
      "100%|██████████| 401/401 [00:13<00:00, 29.04it/s]\n"
     ]
    },
    {
     "name": "stdout",
     "output_type": "stream",
     "text": [
      "MoviePy - Building file dataset/inputtest_rotated.gif with imageio.\n"
     ]
    },
    {
     "name": "stderr",
     "output_type": "stream",
     "text": [
      "                                                              \r"
     ]
    }
   ],
   "source": [
    "# name = 'rotated_dirty'\n",
    "# get_and_save_gif('dataset/outputtest')\n",
    "\n",
    "# get_and_save_gif('dataset/inputtest')"
   ]
  },
  {
   "cell_type": "markdown",
   "metadata": {},
   "source": [
    "生成并合并gif"
   ]
  },
  {
   "cell_type": "code",
   "execution_count": 5,
   "metadata": {},
   "outputs": [],
   "source": [
    "def save_video_and_gif(name0):\n",
    "    \n",
    "    rotated_img = tifffile.imread(name0+'.tif').transpose(1,2,0)\n",
    "    name0 = name0 + '_rotated'\n",
    "    tifffile.imsave(name0 +'.tif', rotated_img)\n",
    "    \n",
    "    viewer = napari.Viewer(ndisplay=3)\n",
    "    viewer.open(name0+'.tif')  \n",
    "    animation = Animation(viewer)\n",
    "\n",
    "    viewer.camera.zoom = 2\n",
    "    animation.capture_keyframe()\n",
    "\n",
    "    viewer.camera.angles = (0.0, 90.0, 90.0)\n",
    "    animation.capture_keyframe(steps=100)\n",
    "\n",
    "    animation.animate(name0+\".mp4\", canvas_only=True, fps=30)\n",
    "\n",
    "    # 指定输入的MP4文件和输出的GIF文件名\n",
    "    mp4_file = name0+\".mp4\"\n",
    "    gif_file = name0+\".gif\"\n",
    "\n",
    "    convert_mp4_to_gif(mp4_file, gif_file)\n",
    "\n",
    "\n",
    "def crop_gif(input_path, output_path):\n",
    "    # 打开 GIF 文件\n",
    "    gif = Image.open(input_path)\n",
    "\n",
    "    # 获取 GIF 的总帧数和每帧的尺寸\n",
    "    frames = []\n",
    "    for frame in ImageSequence.Iterator(gif):\n",
    "        frames.append(frame.copy())\n",
    "\n",
    "    frame_width, frame_height = frames[0].size\n",
    "\n",
    "    # 计算左右 1/5 到 4/5 的区域\n",
    "    start_x = int(frame_width / 6)\n",
    "    end_x = int(frame_width * 5 / 6)\n",
    "\n",
    "    # 创建一个存储剪裁帧的列表\n",
    "    cropped_frames = []\n",
    "\n",
    "    # 循环遍历每一帧，将剪裁的部分添加到列表中\n",
    "    for frame in frames:\n",
    "        cropped_frame = frame.crop((start_x, 0, end_x, frame_height))\n",
    "        cropped_frames.append(cropped_frame)\n",
    "\n",
    "    # 将剪裁后的帧保存为新的 GIF 文件\n",
    "    cropped_frames[0].save(output_path, save_all=True, append_images=cropped_frames[1:], optimize=False, loop=0)\n",
    "    \n",
    "def merge_gifs_horizontally(gif1_path, gif2_path, output_path):\n",
    "    # 打开两个GIF图像文件\n",
    "    gif1 = Image.open(gif1_path)\n",
    "    gif2 = Image.open(gif2_path)\n",
    "\n",
    "    # 获取GIF图像的帧数\n",
    "    gif1_frames = gif1.n_frames\n",
    "    gif2_frames = gif2.n_frames\n",
    "\n",
    "    # 确保两个GIF图像的帧数相同，取较小的帧数作为最终合并后的帧数\n",
    "    num_frames = min(gif1_frames, gif2_frames)\n",
    "\n",
    "    # 创建一个列表来存储合并后的每一帧图像\n",
    "    frames = []\n",
    "\n",
    "    for i in range(num_frames):\n",
    "        # 选择两个GIF图像对应的帧\n",
    "        gif1.seek(i)\n",
    "        gif2.seek(i)\n",
    "\n",
    "        # 将两个帧按水平方向合并\n",
    "        merged_frame = Image.new('RGB', (gif1.width + gif2.width, max(gif1.height, gif2.height)))\n",
    "        merged_frame.paste(gif1, (0, 0))\n",
    "        merged_frame.paste(gif2, (gif1.width, 0))\n",
    "\n",
    "        # 添加合并后的帧到帧列表中\n",
    "        frames.append(merged_frame)\n",
    "\n",
    "    # 保存合并后的GIF图像\n",
    "    frames[0].save(output_path, save_all=True, append_images=frames[1:], loop=0)\n"
   ]
  },
  {
   "cell_type": "code",
   "execution_count": 7,
   "metadata": {},
   "outputs": [
    {
     "name": "stdout",
     "output_type": "stream",
     "text": [
      "Rendering frames...\n"
     ]
    },
    {
     "name": "stderr",
     "output_type": "stream",
     "text": [
      "  0%|          | 0/101 [00:00<?, ?it/s]IMAGEIO FFMPEG_WRITER WARNING: input image is not divisible by macro_block_size=16, resizing from (1414, 1194) to (1424, 1200) to ensure video compatibility with most codecs and players. To prevent resizing, make your input image divisible by the macro_block_size or set the macro_block_size to 1 (risking incompatibility).\n",
      "100%|██████████| 101/101 [00:03<00:00, 30.10it/s]\n"
     ]
    },
    {
     "name": "stdout",
     "output_type": "stream",
     "text": [
      "MoviePy - Building file inputtest_rotated.gif with imageio.\n"
     ]
    },
    {
     "name": "stderr",
     "output_type": "stream",
     "text": [
      "                                                             \r"
     ]
    },
    {
     "name": "stdout",
     "output_type": "stream",
     "text": [
      "Rendering frames...\n"
     ]
    },
    {
     "name": "stderr",
     "output_type": "stream",
     "text": [
      "  0%|          | 0/101 [00:00<?, ?it/s]IMAGEIO FFMPEG_WRITER WARNING: input image is not divisible by macro_block_size=16, resizing from (1414, 1194) to (1424, 1200) to ensure video compatibility with most codecs and players. To prevent resizing, make your input image divisible by the macro_block_size or set the macro_block_size to 1 (risking incompatibility).\n",
      "100%|██████████| 101/101 [00:03<00:00, 30.97it/s]\n"
     ]
    },
    {
     "name": "stdout",
     "output_type": "stream",
     "text": [
      "MoviePy - Building file outputtest_rotated.gif with imageio.\n"
     ]
    },
    {
     "name": "stderr",
     "output_type": "stream",
     "text": [
      "                                                             \r"
     ]
    }
   ],
   "source": [
    "from PIL import Image, ImageSequence\n",
    "\n",
    "\n",
    "save_video_and_gif('inputtest')\n",
    "save_video_and_gif('outputtest')\n",
    "\n",
    "# 调用函数剪裁 GIF 并保存\n",
    "crop_gif('inputtest_rotated.gif', 'inputtest_rotated.gif')\n",
    "crop_gif('outputtest_rotated.gif', 'outputtest_rotated.gif')\n",
    "\n",
    "merge_gifs_horizontally(\"inputtest_rotated.gif\", \"outputtest_rotated.gif\", \"res.gif\")\n"
   ]
  },
  {
   "cell_type": "code",
   "execution_count": null,
   "metadata": {},
   "outputs": [],
   "source": []
  }
 ],
 "metadata": {
  "kernelspec": {
   "display_name": "flsmio",
   "language": "python",
   "name": "python3"
  },
  "language_info": {
   "codemirror_mode": {
    "name": "ipython",
    "version": 3
   },
   "file_extension": ".py",
   "mimetype": "text/x-python",
   "name": "python",
   "nbconvert_exporter": "python",
   "pygments_lexer": "ipython3",
   "version": "3.8.0"
  }
 },
 "nbformat": 4,
 "nbformat_minor": 2
}
