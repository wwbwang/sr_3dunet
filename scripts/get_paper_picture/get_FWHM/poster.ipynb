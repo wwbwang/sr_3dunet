{
 "cells": [
  {
   "cell_type": "code",
   "execution_count": null,
   "metadata": {},
   "outputs": [],
   "source": [
    "import numpy as np\n",
    "import tifffile\n",
    "import matplotlib.pyplot as plt"
   ]
  },
  {
   "cell_type": "code",
   "execution_count": null,
   "metadata": {},
   "outputs": [],
   "source": [
    "from sr_3dunet.utils.data_utils import get_projection, get_rotated_img, get_anti_rotated_img"
   ]
  },
  {
   "cell_type": "code",
   "execution_count": null,
   "metadata": {},
   "outputs": [],
   "source": [
    "img_input = tifffile.imread('/share/home/wangwb/workspace/sr_3dunet/datasets/bigbigtif/img_3.tif').astype(np.float16)\n",
    "img_output = tifffile.imread('/share/home/wangwb/workspace/sr_3dunet/datasets/bigbigtif_sr/outputimg_3.tif').astype(np.float16)"
   ]
  },
  {
   "cell_type": "code",
   "execution_count": null,
   "metadata": {},
   "outputs": [],
   "source": [
    "rotated_img_input = get_rotated_img(img_input, None).astype(np.float16)\n",
    "rotated_img_input = rotated_img_input[rotated_img_input.shape[0]//4:rotated_img_input.shape[0]//4*3, :, rotated_img_input.shape[2]//4:rotated_img_input.shape[2]//4*3]"
   ]
  },
  {
   "cell_type": "code",
   "execution_count": null,
   "metadata": {},
   "outputs": [],
   "source": [
    "rotated_img_output = get_rotated_img(img_output, None).astype(np.float16)\n",
    "rotated_img_output = rotated_img_output[rotated_img_output.shape[0]//4:rotated_img_output.shape[0]//4*3, :, rotated_img_output.shape[2]//4:rotated_img_output.shape[2]//4*3]"
   ]
  },
  {
   "cell_type": "code",
   "execution_count": null,
   "metadata": {},
   "outputs": [],
   "source": [
    "tifffile.imwrite('rotated_img_3.tif', rotated_img_input[:, :, :])\n",
    "tifffile.imwrite('rotated_img_3_sr.tif', rotated_img_output[:, :, :])"
   ]
  },
  {
   "cell_type": "code",
   "execution_count": null,
   "metadata": {},
   "outputs": [],
   "source": [
    "plt.figure(figsize=(10, 10))\n",
    "\n",
    "# img_cut = rotated_img_input[360: 640, :, :].transpose(0, 2, 1)[:, 200:530, 385:625]\n",
    "\n",
    "len1 = 330\n",
    "len2 = 215\n",
    "starty = 200\n",
    "startz = 410\n",
    "\n",
    "img_cut = rotated_img_input[360: 640, :, :].transpose(0, 2, 1)[:, starty:starty+len1, startz:startz+len2]\n",
    "img_MIP, _, _ = get_projection(img_cut, -3)\n",
    "img_MIP = img_MIP.transpose(1,0)\n",
    "\n",
    "tifffile.imwrite('img_MIP_input.tif', img_MIP)\n",
    "plt.imshow(img_MIP)\n",
    "tifffile.imwrite('outputimg_3_cut.tif', img_cut)"
   ]
  },
  {
   "cell_type": "code",
   "execution_count": null,
   "metadata": {},
   "outputs": [],
   "source": [
    "plt.figure(figsize=(10, 10))\n",
    "\n",
    "img_cut = rotated_img_output[360: 640, :, :].transpose(0, 2, 1)[:, 200:530, 385:625]\n",
    "img_MIP, _, _ = get_projection(img_cut, -3)\n",
    "img_MIP = img_MIP.transpose(1,0)\n",
    "\n",
    "tifffile.imwrite('img_MIP_output.tif', img_MIP)\n",
    "plt.imshow(img_MIP)\n",
    "print(img_cut.shape)\n",
    "tifffile.imwrite('outputimg_3_cut_sr.tif', img_cut)"
   ]
  }
 ],
 "metadata": {
  "kernelspec": {
   "display_name": "MPCN",
   "language": "python",
   "name": "python3"
  },
  "language_info": {
   "codemirror_mode": {
    "name": "ipython",
    "version": 3
   },
   "file_extension": ".py",
   "mimetype": "text/x-python",
   "name": "python",
   "nbconvert_exporter": "python",
   "pygments_lexer": "ipython3",
   "version": "3.9.0"
  }
 },
 "nbformat": 4,
 "nbformat_minor": 2
}
