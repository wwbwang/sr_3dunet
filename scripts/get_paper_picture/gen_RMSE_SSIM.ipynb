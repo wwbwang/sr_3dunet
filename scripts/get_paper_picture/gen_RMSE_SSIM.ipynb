{
 "cells": [
  {
   "cell_type": "code",
   "execution_count": 69,
   "metadata": {},
   "outputs": [],
   "source": [
    "import numpy as np\n",
    "from ssim import SSIMLoss \n",
    "import tifffile\n",
    "import torch"
   ]
  },
  {
   "cell_type": "code",
   "execution_count": 70,
   "metadata": {},
   "outputs": [],
   "source": [
    "input_img = tifffile.imread('./dataset/img_simulation/input0064.tif').astype(np.float32)\n",
    "selfnet_img = tifffile.imread('./dataset/img_simulation/selfnet0064.tif').astype(np.float32)\n",
    "MPCN_img = tifffile.imread('./dataset/img_simulation/MPCN0064.tif').astype(np.float32)\n",
    "GT_img = tifffile.imread('./dataset/img_simulation/GT0064.tif').astype(np.float32)"
   ]
  },
  {
   "cell_type": "code",
   "execution_count": 71,
   "metadata": {},
   "outputs": [],
   "source": [
    "def normalize(img_np, invert=False):\n",
    "    img_min = np.min(img_np)\n",
    "    img_max = np.max(img_np)\n",
    "\n",
    "    new_min = 0\n",
    "    new_max = 65535\n",
    "    img_normd = (img_np - img_min) * ((new_max - new_min) / (img_max - img_min)) + new_min\n",
    "\n",
    "    if invert:\n",
    "        img_normd = new_max - img_normd\n",
    "\n",
    "    return img_normd"
   ]
  },
  {
   "cell_type": "code",
   "execution_count": 72,
   "metadata": {},
   "outputs": [],
   "source": [
    "def calculate_rmse(image, image_hat):\n",
    "    if image.shape != image_hat.shape:\n",
    "        raise ValueError(\"Input images must have the same shape.\")\n",
    "\n",
    "    mse = np.mean((image - image_hat) ** 2)\n",
    "    rmse = np.sqrt(mse)\n",
    "    \n",
    "    return rmse\n",
    "\n",
    "def calculate_nrmse(image, image_hat):\n",
    "    if image.shape != image_hat.shape:\n",
    "        raise ValueError(\"Input images must have the same shape.\")\n",
    "\n",
    "    mse = mse = np.mean((image - image_hat) ** 2) / (np.max(image) - np.min(image))\n",
    "    rmse = np.sqrt(mse)\n",
    "    \n",
    "    return rmse\n",
    "\n",
    "ssim_loss = SSIMLoss(loss_weight=1, data_range=1, size_average=True, channel=1, dim=3)\n"
   ]
  },
  {
   "cell_type": "code",
   "execution_count": 73,
   "metadata": {},
   "outputs": [
    {
     "name": "stdout",
     "output_type": "stream",
     "text": [
      "1742.1287\n",
      "1270.5675\n",
      "\n",
      "3774.4343\n",
      "2215.3806\n",
      "1355.5159\n",
      "\n",
      "14.743996\n",
      "8.653896\n",
      "5.2950244\n"
     ]
    }
   ],
   "source": [
    "print(input_img.mean())\n",
    "print(GT_img.mean())\n",
    "print()\n",
    "print(calculate_rmse(normalize(input_img), normalize(GT_img)))\n",
    "print(calculate_rmse(normalize(selfnet_img), normalize(GT_img)))\n",
    "print(calculate_rmse(normalize(MPCN_img), normalize(GT_img)))\n",
    "print()\n",
    "print(calculate_nrmse(normalize(input_img), normalize(GT_img)))\n",
    "print(calculate_nrmse(normalize(selfnet_img), normalize(GT_img)))\n",
    "print(calculate_nrmse(normalize(MPCN_img), normalize(GT_img)))"
   ]
  },
  {
   "cell_type": "code",
   "execution_count": 74,
   "metadata": {},
   "outputs": [],
   "source": [
    "def normalize(img_np, invert=False):\n",
    "    img_min = np.min(img_np)\n",
    "    img_max = np.max(img_np)\n",
    "\n",
    "    new_min = 0\n",
    "    new_max = 1\n",
    "    img_normd = (img_np - img_min) * ((new_max - new_min) / (img_max - img_min)) + new_min\n",
    "\n",
    "    if invert:\n",
    "        img_normd = new_max - img_normd\n",
    "\n",
    "    return img_normd"
   ]
  },
  {
   "cell_type": "code",
   "execution_count": 75,
   "metadata": {},
   "outputs": [
    {
     "name": "stdout",
     "output_type": "stream",
     "text": [
      "tensor(0.6739)\n",
      "tensor(0.8672)\n",
      "tensor(0.9686)\n"
     ]
    }
   ],
   "source": [
    "print(ssim_loss(torch.from_numpy(normalize(input_img))[None, None], torch.from_numpy(normalize(GT_img))[None, None]))\n",
    "print(ssim_loss(torch.from_numpy(normalize(selfnet_img))[None, None], torch.from_numpy(normalize(GT_img))[None, None]))\n",
    "print(ssim_loss(torch.from_numpy(normalize(MPCN_img))[None, None], torch.from_numpy(normalize(GT_img))[None, None]))"
   ]
  },
  {
   "cell_type": "code",
   "execution_count": 76,
   "metadata": {},
   "outputs": [
    {
     "name": "stdout",
     "output_type": "stream",
     "text": [
      "tensor(0.3361)\n",
      "tensor(0.4793)\n",
      "tensor(0.4782)\n"
     ]
    }
   ],
   "source": [
    "print(ssim_loss(torch.from_numpy(input_img)[None, None], torch.from_numpy(GT_img)[None, None]))\n",
    "print(ssim_loss(torch.from_numpy(selfnet_img)[None, None], torch.from_numpy(GT_img)[None, None]))\n",
    "print(ssim_loss(torch.from_numpy(MPCN_img)[None, None], torch.from_numpy(GT_img)[None, None]))"
   ]
  },
  {
   "cell_type": "code",
   "execution_count": 77,
   "metadata": {},
   "outputs": [
    {
     "name": "stdout",
     "output_type": "stream",
     "text": [
      "tensor(0.6739)\n",
      "tensor(0.8672)\n",
      "tensor(0.9686)\n"
     ]
    }
   ],
   "source": [
    "print(ssim_loss(torch.from_numpy(normalize(input_img))[None, None], torch.from_numpy(normalize(GT_img))[None, None]))\n",
    "print(ssim_loss(torch.from_numpy(normalize(selfnet_img))[None, None], torch.from_numpy(normalize(GT_img))[None, None]))\n",
    "print(ssim_loss(torch.from_numpy(normalize(MPCN_img))[None, None], torch.from_numpy(normalize(GT_img))[None, None]))"
   ]
  },
  {
   "cell_type": "code",
   "execution_count": 78,
   "metadata": {},
   "outputs": [
    {
     "name": "stdout",
     "output_type": "stream",
     "text": [
      "tensor(0.3361)\n",
      "tensor(0.4793)\n",
      "tensor(0.4782)\n"
     ]
    }
   ],
   "source": [
    "print(ssim_loss(torch.from_numpy(input_img)[None, None], torch.from_numpy(GT_img)[None, None]))\n",
    "print(ssim_loss(torch.from_numpy(selfnet_img)[None, None], torch.from_numpy(GT_img)[None, None]))\n",
    "print(ssim_loss(torch.from_numpy(MPCN_img)[None, None], torch.from_numpy(GT_img)[None, None]))"
   ]
  },
  {
   "cell_type": "code",
   "execution_count": null,
   "metadata": {},
   "outputs": [],
   "source": []
  }
 ],
 "metadata": {
  "kernelspec": {
   "display_name": "flsmio",
   "language": "python",
   "name": "python3"
  },
  "language_info": {
   "codemirror_mode": {
    "name": "ipython",
    "version": 3
   },
   "file_extension": ".py",
   "mimetype": "text/x-python",
   "name": "python",
   "nbconvert_exporter": "python",
   "pygments_lexer": "ipython3",
   "version": "3.7.0"
  }
 },
 "nbformat": 4,
 "nbformat_minor": 2
}
